{
 "cells": [
  {
   "cell_type": "code",
   "execution_count": 6,
   "id": "b1ca36e8-5e3c-4d13-9871-ccd9e74db924",
   "metadata": {},
   "outputs": [],
   "source": [
    "from neurodiffeq import diff\n",
    "from neurodiffeq.solvers import Solver1D, Solver2D\n",
    "from neurodiffeq.conditions import IVP, DirichletBVP2D\n",
    "from neurodiffeq.networks import FCNN, SinActv, Resnet, Swish, MonomialNN\n",
    "import numpy as np\n",
    "import matplotlib.pyplot as plt\n",
    "from scipy.integrate import solve_ivp\n",
    "import torch\n",
    "import torch.nn as nn\n",
    "from neurodiffeq.generators import Generator1D\n",
    "import math\n",
    "from neurodiffeq.monitors import Monitor1D\n",
    "import IPython\n",
    "import numpy as np\n",
    "import matplotlib.pyplot as plt\n",
    "\n",
    "   \n",
    "from scipy.integrate import odeint"
   ]
  },
  {
   "cell_type": "code",
   "execution_count": 7,
   "id": "5e9f1bcf-71b1-43b3-8631-a783efa68a1b",
   "metadata": {},
   "outputs": [],
   "source": [
    "alpha_0 = 2\n",
    "alpha_1 = 1\n",
    "c2 = alpha_0/(12*alpha_1)\n",
    "c3 = 1.0\n",
    "c2\n",
    "import math\n",
    "def truncate(number, digits) -> float:\n",
    "    # Improve accuracy with floating point operations, to avoid truncate(16.4, 2) = 16.39 or truncate(-1.13, 2) = -1.12\n",
    "    nbDecimals = len(str(number).split('.')[1]) \n",
    "    if nbDecimals <= digits:\n",
    "        return number\n",
    "    stepper = 10.0 ** digits\n",
    "    return math.trunc(stepper * number) / stepper"
   ]
  },
  {
   "cell_type": "code",
   "execution_count": 8,
   "id": "440f8fb0-c94d-4b22-bc30-99d576ebf6dc",
   "metadata": {},
   "outputs": [
    {
     "data": {
      "application/vnd.jupyter.widget-view+json": {
       "model_id": "bd582c9ba5f3445ea2251d03a752e556",
       "version_major": 2,
       "version_minor": 0
      },
      "text/plain": [
       "Training Progress:   0%|                             | 0/300000 [00:00<?, ?it/s]"
      ]
     },
     "metadata": {},
     "output_type": "display_data"
    },
    {
     "data": {
      "application/vnd.jupyter.widget-view+json": {
       "model_id": "cd713b7f31444ae59227482b2ec79b89",
       "version_major": 2,
       "version_minor": 0
      },
      "text/plain": [
       "Training Progress:   0%|                             | 0/300000 [00:00<?, ?it/s]"
      ]
     },
     "metadata": {},
     "output_type": "display_data"
    },
    {
     "data": {
      "application/vnd.jupyter.widget-view+json": {
       "model_id": "cecaa9e098a4404a8bb178073ffa397e",
       "version_major": 2,
       "version_minor": 0
      },
      "text/plain": [
       "Training Progress:   0%|                             | 0/300000 [00:00<?, ?it/s]"
      ]
     },
     "metadata": {},
     "output_type": "display_data"
    },
    {
     "data": {
      "application/vnd.jupyter.widget-view+json": {
       "model_id": "7a44c5f93b3946c5a234eab308de2ce2",
       "version_major": 2,
       "version_minor": 0
      },
      "text/plain": [
       "Training Progress:   0%|                             | 0/300000 [00:00<?, ?it/s]"
      ]
     },
     "metadata": {},
     "output_type": "display_data"
    },
    {
     "data": {
      "application/vnd.jupyter.widget-view+json": {
       "model_id": "ec055cf3062842b6b9317018c28a2efd",
       "version_major": 2,
       "version_minor": 0
      },
      "text/plain": [
       "Training Progress:   0%|                             | 0/300000 [00:00<?, ?it/s]"
      ]
     },
     "metadata": {},
     "output_type": "display_data"
    },
    {
     "name": "stderr",
     "output_type": "stream",
     "text": [
      "/var/folders/1d/4ydxxx616sj_j5v722pzy2wr0000gn/T/ipykernel_26056/598303680.py:63: RankWarning: Polyfit may be poorly conditioned\n",
      "  poly = np.polyfit(t, A_n5, deg=5)\n"
     ]
    },
    {
     "data": {
      "application/vnd.jupyter.widget-view+json": {
       "model_id": "1b90261fc32d40e895baa331de9702d1",
       "version_major": 2,
       "version_minor": 0
      },
      "text/plain": [
       "Training Progress:   0%|                             | 0/300000 [00:00<?, ?it/s]"
      ]
     },
     "metadata": {},
     "output_type": "display_data"
    },
    {
     "name": "stderr",
     "output_type": "stream",
     "text": [
      "/var/folders/1d/4ydxxx616sj_j5v722pzy2wr0000gn/T/ipykernel_26056/598303680.py:63: RankWarning: Polyfit may be poorly conditioned\n",
      "  poly = np.polyfit(t, A_n5, deg=5)\n"
     ]
    },
    {
     "data": {
      "application/vnd.jupyter.widget-view+json": {
       "model_id": "2bd63bad6b114136a1c3471798fcfa1f",
       "version_major": 2,
       "version_minor": 0
      },
      "text/plain": [
       "Training Progress:   0%|                             | 0/300000 [00:00<?, ?it/s]"
      ]
     },
     "metadata": {},
     "output_type": "display_data"
    },
    {
     "name": "stderr",
     "output_type": "stream",
     "text": [
      "/var/folders/1d/4ydxxx616sj_j5v722pzy2wr0000gn/T/ipykernel_26056/598303680.py:63: RankWarning: Polyfit may be poorly conditioned\n",
      "  poly = np.polyfit(t, A_n5, deg=5)\n"
     ]
    },
    {
     "data": {
      "application/vnd.jupyter.widget-view+json": {
       "model_id": "36fa4b305f154329971f3a425ed30870",
       "version_major": 2,
       "version_minor": 0
      },
      "text/plain": [
       "Training Progress:   0%|                             | 0/300000 [00:00<?, ?it/s]"
      ]
     },
     "metadata": {},
     "output_type": "display_data"
    },
    {
     "name": "stderr",
     "output_type": "stream",
     "text": [
      "/var/folders/1d/4ydxxx616sj_j5v722pzy2wr0000gn/T/ipykernel_26056/598303680.py:63: RankWarning: Polyfit may be poorly conditioned\n",
      "  poly = np.polyfit(t, A_n5, deg=5)\n"
     ]
    },
    {
     "data": {
      "application/vnd.jupyter.widget-view+json": {
       "model_id": "b909c5fab17b4325b84c24c652108734",
       "version_major": 2,
       "version_minor": 0
      },
      "text/plain": [
       "Training Progress:   0%|                             | 0/300000 [00:00<?, ?it/s]"
      ]
     },
     "metadata": {},
     "output_type": "display_data"
    },
    {
     "name": "stderr",
     "output_type": "stream",
     "text": [
      "/var/folders/1d/4ydxxx616sj_j5v722pzy2wr0000gn/T/ipykernel_26056/598303680.py:63: RankWarning: Polyfit may be poorly conditioned\n",
      "  poly = np.polyfit(t, A_n5, deg=5)\n"
     ]
    },
    {
     "data": {
      "application/vnd.jupyter.widget-view+json": {
       "model_id": "f3819db296c44db7a14691f551614b99",
       "version_major": 2,
       "version_minor": 0
      },
      "text/plain": [
       "Training Progress:   0%|                             | 0/300000 [00:00<?, ?it/s]"
      ]
     },
     "metadata": {},
     "output_type": "display_data"
    },
    {
     "name": "stderr",
     "output_type": "stream",
     "text": [
      "/var/folders/1d/4ydxxx616sj_j5v722pzy2wr0000gn/T/ipykernel_26056/598303680.py:63: RankWarning: Polyfit may be poorly conditioned\n",
      "  poly = np.polyfit(t, A_n5, deg=5)\n"
     ]
    },
    {
     "data": {
      "application/vnd.jupyter.widget-view+json": {
       "model_id": "28ed62643be74e6bacb19ac0cd6d3398",
       "version_major": 2,
       "version_minor": 0
      },
      "text/plain": [
       "Training Progress:   0%|                             | 0/300000 [00:00<?, ?it/s]"
      ]
     },
     "metadata": {},
     "output_type": "display_data"
    },
    {
     "name": "stderr",
     "output_type": "stream",
     "text": [
      "/var/folders/1d/4ydxxx616sj_j5v722pzy2wr0000gn/T/ipykernel_26056/598303680.py:63: RankWarning: Polyfit may be poorly conditioned\n",
      "  poly = np.polyfit(t, A_n5, deg=5)\n"
     ]
    },
    {
     "data": {
      "application/vnd.jupyter.widget-view+json": {
       "model_id": "cb23457eecca40d2bdf78c8076fd64c8",
       "version_major": 2,
       "version_minor": 0
      },
      "text/plain": [
       "Training Progress:   0%|                             | 0/300000 [00:00<?, ?it/s]"
      ]
     },
     "metadata": {},
     "output_type": "display_data"
    },
    {
     "name": "stderr",
     "output_type": "stream",
     "text": [
      "/var/folders/1d/4ydxxx616sj_j5v722pzy2wr0000gn/T/ipykernel_26056/598303680.py:63: RankWarning: Polyfit may be poorly conditioned\n",
      "  poly = np.polyfit(t, A_n5, deg=5)\n"
     ]
    },
    {
     "data": {
      "application/vnd.jupyter.widget-view+json": {
       "model_id": "6c936c2c8b4c4ece8bc368d07bec9fa5",
       "version_major": 2,
       "version_minor": 0
      },
      "text/plain": [
       "Training Progress:   0%|                             | 0/300000 [00:00<?, ?it/s]"
      ]
     },
     "metadata": {},
     "output_type": "display_data"
    },
    {
     "name": "stderr",
     "output_type": "stream",
     "text": [
      "/var/folders/1d/4ydxxx616sj_j5v722pzy2wr0000gn/T/ipykernel_26056/598303680.py:63: RankWarning: Polyfit may be poorly conditioned\n",
      "  poly = np.polyfit(t, A_n5, deg=5)\n"
     ]
    },
    {
     "data": {
      "application/vnd.jupyter.widget-view+json": {
       "model_id": "11e4ab4a74d24b939b155b9d5f3597d7",
       "version_major": 2,
       "version_minor": 0
      },
      "text/plain": [
       "Training Progress:   0%|                             | 0/300000 [00:00<?, ?it/s]"
      ]
     },
     "metadata": {},
     "output_type": "display_data"
    },
    {
     "name": "stderr",
     "output_type": "stream",
     "text": [
      "/var/folders/1d/4ydxxx616sj_j5v722pzy2wr0000gn/T/ipykernel_26056/598303680.py:63: RankWarning: Polyfit may be poorly conditioned\n",
      "  poly = np.polyfit(t, A_n5, deg=5)\n"
     ]
    },
    {
     "data": {
      "application/vnd.jupyter.widget-view+json": {
       "model_id": "68d70972a6e34fd9a27305d341bb10e1",
       "version_major": 2,
       "version_minor": 0
      },
      "text/plain": [
       "Training Progress:   0%|                             | 0/300000 [00:00<?, ?it/s]"
      ]
     },
     "metadata": {},
     "output_type": "display_data"
    },
    {
     "name": "stderr",
     "output_type": "stream",
     "text": [
      "/var/folders/1d/4ydxxx616sj_j5v722pzy2wr0000gn/T/ipykernel_26056/598303680.py:63: RankWarning: Polyfit may be poorly conditioned\n",
      "  poly = np.polyfit(t, A_n5, deg=5)\n"
     ]
    },
    {
     "data": {
      "application/vnd.jupyter.widget-view+json": {
       "model_id": "7589ae25145d482cab11b7e62b0b9ddb",
       "version_major": 2,
       "version_minor": 0
      },
      "text/plain": [
       "Training Progress:   0%|                             | 0/300000 [00:00<?, ?it/s]"
      ]
     },
     "metadata": {},
     "output_type": "display_data"
    },
    {
     "name": "stderr",
     "output_type": "stream",
     "text": [
      "/var/folders/1d/4ydxxx616sj_j5v722pzy2wr0000gn/T/ipykernel_26056/598303680.py:63: RankWarning: Polyfit may be poorly conditioned\n",
      "  poly = np.polyfit(t, A_n5, deg=5)\n"
     ]
    },
    {
     "data": {
      "application/vnd.jupyter.widget-view+json": {
       "model_id": "20f00db4eef74bcca8e345d95d91d76a",
       "version_major": 2,
       "version_minor": 0
      },
      "text/plain": [
       "Training Progress:   0%|                             | 0/300000 [00:00<?, ?it/s]"
      ]
     },
     "metadata": {},
     "output_type": "display_data"
    },
    {
     "name": "stderr",
     "output_type": "stream",
     "text": [
      "/var/folders/1d/4ydxxx616sj_j5v722pzy2wr0000gn/T/ipykernel_26056/598303680.py:63: RankWarning: Polyfit may be poorly conditioned\n",
      "  poly = np.polyfit(t, A_n5, deg=5)\n"
     ]
    },
    {
     "data": {
      "application/vnd.jupyter.widget-view+json": {
       "model_id": "439d4e3024e44f4e99595a5d57b8bd94",
       "version_major": 2,
       "version_minor": 0
      },
      "text/plain": [
       "Training Progress:   0%|                             | 0/300000 [00:00<?, ?it/s]"
      ]
     },
     "metadata": {},
     "output_type": "display_data"
    },
    {
     "name": "stderr",
     "output_type": "stream",
     "text": [
      "/var/folders/1d/4ydxxx616sj_j5v722pzy2wr0000gn/T/ipykernel_26056/598303680.py:63: RankWarning: Polyfit may be poorly conditioned\n",
      "  poly = np.polyfit(t, A_n5, deg=5)\n"
     ]
    },
    {
     "data": {
      "application/vnd.jupyter.widget-view+json": {
       "model_id": "b9a0172af05b40b19f48f63f1def8a34",
       "version_major": 2,
       "version_minor": 0
      },
      "text/plain": [
       "Training Progress:   0%|                             | 0/300000 [00:00<?, ?it/s]"
      ]
     },
     "metadata": {},
     "output_type": "display_data"
    },
    {
     "name": "stderr",
     "output_type": "stream",
     "text": [
      "/var/folders/1d/4ydxxx616sj_j5v722pzy2wr0000gn/T/ipykernel_26056/598303680.py:63: RankWarning: Polyfit may be poorly conditioned\n",
      "  poly = np.polyfit(t, A_n5, deg=5)\n"
     ]
    },
    {
     "data": {
      "application/vnd.jupyter.widget-view+json": {
       "model_id": "f3fee95da6b04ffd8c8c1d2dda794cc7",
       "version_major": 2,
       "version_minor": 0
      },
      "text/plain": [
       "Training Progress:   0%|                             | 0/300000 [00:00<?, ?it/s]"
      ]
     },
     "metadata": {},
     "output_type": "display_data"
    },
    {
     "name": "stderr",
     "output_type": "stream",
     "text": [
      "/var/folders/1d/4ydxxx616sj_j5v722pzy2wr0000gn/T/ipykernel_26056/598303680.py:63: RankWarning: Polyfit may be poorly conditioned\n",
      "  poly = np.polyfit(t, A_n5, deg=5)\n"
     ]
    },
    {
     "data": {
      "application/vnd.jupyter.widget-view+json": {
       "model_id": "cd7a08fa31944f1ea7fb30b10022d19b",
       "version_major": 2,
       "version_minor": 0
      },
      "text/plain": [
       "Training Progress:   0%|                             | 0/300000 [00:00<?, ?it/s]"
      ]
     },
     "metadata": {},
     "output_type": "display_data"
    },
    {
     "name": "stderr",
     "output_type": "stream",
     "text": [
      "/var/folders/1d/4ydxxx616sj_j5v722pzy2wr0000gn/T/ipykernel_26056/598303680.py:63: RankWarning: Polyfit may be poorly conditioned\n",
      "  poly = np.polyfit(t, A_n5, deg=5)\n"
     ]
    },
    {
     "data": {
      "application/vnd.jupyter.widget-view+json": {
       "model_id": "e1dc80fc39ca49e8a0fe9da6c479e2cb",
       "version_major": 2,
       "version_minor": 0
      },
      "text/plain": [
       "Training Progress:   0%|                             | 0/300000 [00:00<?, ?it/s]"
      ]
     },
     "metadata": {},
     "output_type": "display_data"
    },
    {
     "name": "stderr",
     "output_type": "stream",
     "text": [
      "/var/folders/1d/4ydxxx616sj_j5v722pzy2wr0000gn/T/ipykernel_26056/598303680.py:63: RankWarning: Polyfit may be poorly conditioned\n",
      "  poly = np.polyfit(t, A_n5, deg=5)\n"
     ]
    },
    {
     "data": {
      "application/vnd.jupyter.widget-view+json": {
       "model_id": "35fb3f07ad63427fb438d11c24040b93",
       "version_major": 2,
       "version_minor": 0
      },
      "text/plain": [
       "Training Progress:   0%|                             | 0/300000 [00:00<?, ?it/s]"
      ]
     },
     "metadata": {},
     "output_type": "display_data"
    },
    {
     "name": "stderr",
     "output_type": "stream",
     "text": [
      "/var/folders/1d/4ydxxx616sj_j5v722pzy2wr0000gn/T/ipykernel_26056/598303680.py:63: RankWarning: Polyfit may be poorly conditioned\n",
      "  poly = np.polyfit(t, A_n5, deg=5)\n"
     ]
    },
    {
     "data": {
      "application/vnd.jupyter.widget-view+json": {
       "model_id": "bc51760cf917479c936f4469e763bf7e",
       "version_major": 2,
       "version_minor": 0
      },
      "text/plain": [
       "Training Progress:   0%|                             | 0/300000 [00:00<?, ?it/s]"
      ]
     },
     "metadata": {},
     "output_type": "display_data"
    },
    {
     "name": "stderr",
     "output_type": "stream",
     "text": [
      "/var/folders/1d/4ydxxx616sj_j5v722pzy2wr0000gn/T/ipykernel_26056/598303680.py:63: RankWarning: Polyfit may be poorly conditioned\n",
      "  poly = np.polyfit(t, A_n5, deg=5)\n"
     ]
    },
    {
     "data": {
      "application/vnd.jupyter.widget-view+json": {
       "model_id": "9482b7057af84dc3b0e9927f49ea5b90",
       "version_major": 2,
       "version_minor": 0
      },
      "text/plain": [
       "Training Progress:   0%|                             | 0/300000 [00:00<?, ?it/s]"
      ]
     },
     "metadata": {},
     "output_type": "display_data"
    },
    {
     "name": "stderr",
     "output_type": "stream",
     "text": [
      "/var/folders/1d/4ydxxx616sj_j5v722pzy2wr0000gn/T/ipykernel_26056/598303680.py:63: RankWarning: Polyfit may be poorly conditioned\n",
      "  poly = np.polyfit(t, A_n5, deg=5)\n"
     ]
    },
    {
     "data": {
      "application/vnd.jupyter.widget-view+json": {
       "model_id": "52be6ae9d590472bb1ab6042899ac188",
       "version_major": 2,
       "version_minor": 0
      },
      "text/plain": [
       "Training Progress:   0%|                             | 0/300000 [00:00<?, ?it/s]"
      ]
     },
     "metadata": {},
     "output_type": "display_data"
    },
    {
     "name": "stderr",
     "output_type": "stream",
     "text": [
      "/var/folders/1d/4ydxxx616sj_j5v722pzy2wr0000gn/T/ipykernel_26056/598303680.py:63: RankWarning: Polyfit may be poorly conditioned\n",
      "  poly = np.polyfit(t, A_n5, deg=5)\n"
     ]
    },
    {
     "data": {
      "application/vnd.jupyter.widget-view+json": {
       "model_id": "e04996dfc3db4d57b9b3d949a8280bc6",
       "version_major": 2,
       "version_minor": 0
      },
      "text/plain": [
       "Training Progress:   0%|                             | 0/300000 [00:00<?, ?it/s]"
      ]
     },
     "metadata": {},
     "output_type": "display_data"
    },
    {
     "name": "stderr",
     "output_type": "stream",
     "text": [
      "/var/folders/1d/4ydxxx616sj_j5v722pzy2wr0000gn/T/ipykernel_26056/598303680.py:63: RankWarning: Polyfit may be poorly conditioned\n",
      "  poly = np.polyfit(t, A_n5, deg=5)\n"
     ]
    },
    {
     "data": {
      "application/vnd.jupyter.widget-view+json": {
       "model_id": "59441df85b454bbda24c00f45972cb4c",
       "version_major": 2,
       "version_minor": 0
      },
      "text/plain": [
       "Training Progress:   0%|                             | 0/300000 [00:00<?, ?it/s]"
      ]
     },
     "metadata": {},
     "output_type": "display_data"
    },
    {
     "name": "stderr",
     "output_type": "stream",
     "text": [
      "/var/folders/1d/4ydxxx616sj_j5v722pzy2wr0000gn/T/ipykernel_26056/598303680.py:63: RankWarning: Polyfit may be poorly conditioned\n",
      "  poly = np.polyfit(t, A_n5, deg=5)\n"
     ]
    },
    {
     "data": {
      "application/vnd.jupyter.widget-view+json": {
       "model_id": "7343dcfe7fce4a39afdd869822f2bd0e",
       "version_major": 2,
       "version_minor": 0
      },
      "text/plain": [
       "Training Progress:   0%|                             | 0/300000 [00:00<?, ?it/s]"
      ]
     },
     "metadata": {},
     "output_type": "display_data"
    },
    {
     "name": "stderr",
     "output_type": "stream",
     "text": [
      "/var/folders/1d/4ydxxx616sj_j5v722pzy2wr0000gn/T/ipykernel_26056/598303680.py:63: RankWarning: Polyfit may be poorly conditioned\n",
      "  poly = np.polyfit(t, A_n5, deg=5)\n"
     ]
    },
    {
     "data": {
      "application/vnd.jupyter.widget-view+json": {
       "model_id": "11d98a06e8d6448c852c8c1e3bfb27bd",
       "version_major": 2,
       "version_minor": 0
      },
      "text/plain": [
       "Training Progress:   0%|                             | 0/300000 [00:00<?, ?it/s]"
      ]
     },
     "metadata": {},
     "output_type": "display_data"
    },
    {
     "name": "stderr",
     "output_type": "stream",
     "text": [
      "/var/folders/1d/4ydxxx616sj_j5v722pzy2wr0000gn/T/ipykernel_26056/598303680.py:63: RankWarning: Polyfit may be poorly conditioned\n",
      "  poly = np.polyfit(t, A_n5, deg=5)\n"
     ]
    },
    {
     "data": {
      "application/vnd.jupyter.widget-view+json": {
       "model_id": "450ba911f7574715919fbd5ec35c1e6e",
       "version_major": 2,
       "version_minor": 0
      },
      "text/plain": [
       "Training Progress:   0%|                             | 0/300000 [00:00<?, ?it/s]"
      ]
     },
     "metadata": {},
     "output_type": "display_data"
    },
    {
     "name": "stderr",
     "output_type": "stream",
     "text": [
      "/var/folders/1d/4ydxxx616sj_j5v722pzy2wr0000gn/T/ipykernel_26056/598303680.py:63: RankWarning: Polyfit may be poorly conditioned\n",
      "  poly = np.polyfit(t, A_n5, deg=5)\n"
     ]
    },
    {
     "data": {
      "application/vnd.jupyter.widget-view+json": {
       "model_id": "eb4049abf0074381beb6fa76b4550324",
       "version_major": 2,
       "version_minor": 0
      },
      "text/plain": [
       "Training Progress:   0%|                             | 0/300000 [00:00<?, ?it/s]"
      ]
     },
     "metadata": {},
     "output_type": "display_data"
    },
    {
     "name": "stderr",
     "output_type": "stream",
     "text": [
      "/var/folders/1d/4ydxxx616sj_j5v722pzy2wr0000gn/T/ipykernel_26056/598303680.py:63: RankWarning: Polyfit may be poorly conditioned\n",
      "  poly = np.polyfit(t, A_n5, deg=5)\n"
     ]
    },
    {
     "data": {
      "application/vnd.jupyter.widget-view+json": {
       "model_id": "80b03d08108d4e14ab3d437080cd7987",
       "version_major": 2,
       "version_minor": 0
      },
      "text/plain": [
       "Training Progress:   0%|                             | 0/300000 [00:00<?, ?it/s]"
      ]
     },
     "metadata": {},
     "output_type": "display_data"
    },
    {
     "name": "stderr",
     "output_type": "stream",
     "text": [
      "/var/folders/1d/4ydxxx616sj_j5v722pzy2wr0000gn/T/ipykernel_26056/598303680.py:63: RankWarning: Polyfit may be poorly conditioned\n",
      "  poly = np.polyfit(t, A_n5, deg=5)\n"
     ]
    },
    {
     "data": {
      "application/vnd.jupyter.widget-view+json": {
       "model_id": "4892fee043394f46a73a72676ac90917",
       "version_major": 2,
       "version_minor": 0
      },
      "text/plain": [
       "Training Progress:   0%|                             | 0/300000 [00:00<?, ?it/s]"
      ]
     },
     "metadata": {},
     "output_type": "display_data"
    },
    {
     "name": "stderr",
     "output_type": "stream",
     "text": [
      "/var/folders/1d/4ydxxx616sj_j5v722pzy2wr0000gn/T/ipykernel_26056/598303680.py:63: RankWarning: Polyfit may be poorly conditioned\n",
      "  poly = np.polyfit(t, A_n5, deg=5)\n"
     ]
    },
    {
     "data": {
      "application/vnd.jupyter.widget-view+json": {
       "model_id": "97983f4024ff4d69b7e5c455c29008a5",
       "version_major": 2,
       "version_minor": 0
      },
      "text/plain": [
       "Training Progress:   0%|                             | 0/300000 [00:00<?, ?it/s]"
      ]
     },
     "metadata": {},
     "output_type": "display_data"
    },
    {
     "name": "stderr",
     "output_type": "stream",
     "text": [
      "/var/folders/1d/4ydxxx616sj_j5v722pzy2wr0000gn/T/ipykernel_26056/598303680.py:63: RankWarning: Polyfit may be poorly conditioned\n",
      "  poly = np.polyfit(t, A_n5, deg=5)\n"
     ]
    },
    {
     "data": {
      "application/vnd.jupyter.widget-view+json": {
       "model_id": "16f8b6a019fd49588fb26c8584cbd741",
       "version_major": 2,
       "version_minor": 0
      },
      "text/plain": [
       "Training Progress:   0%|                             | 0/300000 [00:00<?, ?it/s]"
      ]
     },
     "metadata": {},
     "output_type": "display_data"
    },
    {
     "name": "stderr",
     "output_type": "stream",
     "text": [
      "/var/folders/1d/4ydxxx616sj_j5v722pzy2wr0000gn/T/ipykernel_26056/598303680.py:63: RankWarning: Polyfit may be poorly conditioned\n",
      "  poly = np.polyfit(t, A_n5, deg=5)\n"
     ]
    },
    {
     "data": {
      "application/vnd.jupyter.widget-view+json": {
       "model_id": "83dfe4e0846346b1b63fd63e13a5f42e",
       "version_major": 2,
       "version_minor": 0
      },
      "text/plain": [
       "Training Progress:   0%|                             | 0/300000 [00:00<?, ?it/s]"
      ]
     },
     "metadata": {},
     "output_type": "display_data"
    },
    {
     "name": "stderr",
     "output_type": "stream",
     "text": [
      "/var/folders/1d/4ydxxx616sj_j5v722pzy2wr0000gn/T/ipykernel_26056/598303680.py:63: RankWarning: Polyfit may be poorly conditioned\n",
      "  poly = np.polyfit(t, A_n5, deg=5)\n"
     ]
    },
    {
     "data": {
      "application/vnd.jupyter.widget-view+json": {
       "model_id": "f2ec33e1124942298965041ed41165b0",
       "version_major": 2,
       "version_minor": 0
      },
      "text/plain": [
       "Training Progress:   0%|                             | 0/300000 [00:00<?, ?it/s]"
      ]
     },
     "metadata": {},
     "output_type": "display_data"
    },
    {
     "name": "stderr",
     "output_type": "stream",
     "text": [
      "/var/folders/1d/4ydxxx616sj_j5v722pzy2wr0000gn/T/ipykernel_26056/598303680.py:63: RankWarning: Polyfit may be poorly conditioned\n",
      "  poly = np.polyfit(t, A_n5, deg=5)\n"
     ]
    },
    {
     "data": {
      "application/vnd.jupyter.widget-view+json": {
       "model_id": "fc4829261fca43c3875a9a37f04ca255",
       "version_major": 2,
       "version_minor": 0
      },
      "text/plain": [
       "Training Progress:   0%|                             | 0/300000 [00:00<?, ?it/s]"
      ]
     },
     "metadata": {},
     "output_type": "display_data"
    },
    {
     "name": "stderr",
     "output_type": "stream",
     "text": [
      "/var/folders/1d/4ydxxx616sj_j5v722pzy2wr0000gn/T/ipykernel_26056/598303680.py:63: RankWarning: Polyfit may be poorly conditioned\n",
      "  poly = np.polyfit(t, A_n5, deg=5)\n"
     ]
    },
    {
     "data": {
      "application/vnd.jupyter.widget-view+json": {
       "model_id": "a050f0c82f2f4743a9d74d79fe4a2aa6",
       "version_major": 2,
       "version_minor": 0
      },
      "text/plain": [
       "Training Progress:   0%|                             | 0/300000 [00:00<?, ?it/s]"
      ]
     },
     "metadata": {},
     "output_type": "display_data"
    },
    {
     "name": "stderr",
     "output_type": "stream",
     "text": [
      "/var/folders/1d/4ydxxx616sj_j5v722pzy2wr0000gn/T/ipykernel_26056/598303680.py:63: RankWarning: Polyfit may be poorly conditioned\n",
      "  poly = np.polyfit(t, A_n5, deg=5)\n"
     ]
    },
    {
     "data": {
      "application/vnd.jupyter.widget-view+json": {
       "model_id": "050fe073aae64938a6b554deabcc1265",
       "version_major": 2,
       "version_minor": 0
      },
      "text/plain": [
       "Training Progress:   0%|                             | 0/300000 [00:00<?, ?it/s]"
      ]
     },
     "metadata": {},
     "output_type": "display_data"
    },
    {
     "name": "stderr",
     "output_type": "stream",
     "text": [
      "/var/folders/1d/4ydxxx616sj_j5v722pzy2wr0000gn/T/ipykernel_26056/598303680.py:63: RankWarning: Polyfit may be poorly conditioned\n",
      "  poly = np.polyfit(t, A_n5, deg=5)\n"
     ]
    },
    {
     "data": {
      "application/vnd.jupyter.widget-view+json": {
       "model_id": "9903e3fdb90643a487fe8b4c74f675c5",
       "version_major": 2,
       "version_minor": 0
      },
      "text/plain": [
       "Training Progress:   0%|                             | 0/300000 [00:00<?, ?it/s]"
      ]
     },
     "metadata": {},
     "output_type": "display_data"
    },
    {
     "name": "stderr",
     "output_type": "stream",
     "text": [
      "/var/folders/1d/4ydxxx616sj_j5v722pzy2wr0000gn/T/ipykernel_26056/598303680.py:63: RankWarning: Polyfit may be poorly conditioned\n",
      "  poly = np.polyfit(t, A_n5, deg=5)\n"
     ]
    }
   ],
   "source": [
    "def ode_system(A, t):\n",
    "    return [(1.5*alpha_1*torch.pow(t,2)*diff(A,t,order=2)-3*alpha_1*(A-1)+0.5*torch.pow(t,2)*alpha_0)*(t*diff(A,t)+2*A)-2*A*torch.pow(t,2)*alpha_0]\n",
    "\n",
    "N = 300000\n",
    "t_i = 1.0\n",
    "j = 0\n",
    "full = []\n",
    "errors = []\n",
    "while(t_i < 5.1):\n",
    "    t_start = t_i\n",
    "    t_end = t_i+0.1\n",
    "    t = np.linspace(t_start, t_end, N)\n",
    "    \n",
    "    conditions = [IVP(t_0=1.0, u_0=1.0+c2-c3, u_0_prime=2*c2+2*c3)]\n",
    "    nets = [Resnet(actv=Swish)]\n",
    "    solver = Solver1D(ode_system, conditions, t_min=t_start, t_max=t_end, nets = nets)\n",
    "    solver.fit(max_epochs=N)\n",
    "    solution = solver.get_solution()\n",
    "    \n",
    "    A_nn = solution(t, to_numpy=True)\n",
    "        \n",
    "    # Initial conditions\n",
    "    \n",
    "    alpha_0 = 2.0\n",
    "    alpha_1 = 1.0\n",
    "    c2 = alpha_0/(12*alpha_1)\n",
    "    c3 = 1.0\n",
    "    y0  = 1.0+c2-c3\n",
    "    u0  = 2*c2+2*c3\n",
    "    h   = t[1]-t[0]\n",
    "    \n",
    "    # Enter the definition of the set of ordinary differential equations\n",
    "    def ode(t,y,u):\n",
    "      ode_1 = u\n",
    "      ode_2 = (4*y*alpha_0)/(3*alpha_1*(t*u+2*y))  - alpha_0/(3*alpha_1) + (2*(y-1))/(t**2)\n",
    "      return np.array([ode_1,ode_2])\n",
    "    \n",
    "    # RK4\n",
    "    y = np.empty(N); u = np.empty(N)\n",
    "    \n",
    "    # t[0] = t_initial\n",
    "    y[0] = y0; u[0] = u0\n",
    "    \n",
    "    for i in range(0,N-1,1):\n",
    "    \n",
    "      k11 = h*ode(t[i],y[i],u[i])[0]\n",
    "      k12 = h*ode(t[i],y[i],u[i])[1]\n",
    "    \n",
    "      k21 = h*ode(t[i]+(h/2),y[i]+(k11/2),u[i]+(k12/2))[0]\n",
    "      k22 = h*ode(t[i]+(h/2),y[i]+(k11/2),u[i]+(k12/2))[1]\n",
    "    \n",
    "      k31 = h*ode(t[i]+(h/2),y[i]+(k21/2),u[i]+(k22/2))[0]\n",
    "      k32 = h*ode(t[i]+(h/2),y[i]+(k21/2),u[i]+(k22/2))[1]\n",
    "    \n",
    "      k41 = h*ode(t[i]+h,y[i]+k31,u[i]+k32)[0]\n",
    "      k42 = h*ode(t[i]+h,y[i]+k31,u[i]+k32)[1]\n",
    "    \n",
    "      y[i+1] = y[i] + ((k11+2*k21+2*k31+k41)/6)\n",
    "      u[i+1] = u[i] + ((k12+2*k22+2*k32+k42)/6)\n",
    "  \n",
    "    lambda_error = np.sqrt(np.mean((A_nn-y)**2))\n",
    "    A_n5 = A_nn*(t**3)\n",
    "    poly = np.polyfit(t, A_n5, deg=5)\n",
    "    full.append(poly)\n",
    "    errors.append(lambda_error)\n",
    "\n",
    "    j += 1\n",
    "    t_i += 0.1\n",
    "    # print(poly)"
   ]
  },
  {
   "cell_type": "code",
   "execution_count": 9,
   "id": "55fb246f-771c-487b-908c-7c7dffc86010",
   "metadata": {},
   "outputs": [],
   "source": [
    "with open('full_1.txt', 'w') as f:\n",
    "    for line in full:\n",
    "        f.write(f\"{line}\\n\")"
   ]
  },
  {
   "cell_type": "code",
   "execution_count": 10,
   "id": "30b86981-5d13-45ae-a85a-9c2444c3cd81",
   "metadata": {},
   "outputs": [],
   "source": [
    "with open('errors_1.txt', 'w') as f:\n",
    "    for line in errors:\n",
    "        f.write(f\"{line}\\n\")"
   ]
  }
 ],
 "metadata": {
  "kernelspec": {
   "display_name": "neurodiff",
   "language": "python",
   "name": "neurodiff"
  },
  "language_info": {
   "codemirror_mode": {
    "name": "ipython",
    "version": 3
   },
   "file_extension": ".py",
   "mimetype": "text/x-python",
   "name": "python",
   "nbconvert_exporter": "python",
   "pygments_lexer": "ipython3",
   "version": "3.11.4"
  }
 },
 "nbformat": 4,
 "nbformat_minor": 5
}
